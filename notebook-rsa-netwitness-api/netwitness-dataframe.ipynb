{
 "cells": [
  {
   "cell_type": "markdown",
   "metadata": {},
   "source": [
    "# NetWitness Jupyter Dataframe playground\n",
    "\n",
    "Requires the following modules to be installed:\n",
    "This has been removed as tldextract was only needed for one use case\n",
    "```\n",
    "tldextract\n",
    "```\n",
    "\n",
    "Requires the following helper function to be in the same directory as the ipydb:\n",
    "``\n",
    "helper_function.py\n",
    "```\n",
    "\n",
    "https://medium.com/dunder-data/minimally-sufficient-pandas-a8e67f2a2428\n"
   ]
  },
  {
   "cell_type": "code",
   "execution_count": null,
   "metadata": {},
   "outputs": [],
   "source": [
    "!echo $PATH"
   ]
  },
  {
   "cell_type": "markdown",
   "metadata": {},
   "source": [
    "# Install a pip package in the current Jupyter kernel\n",
    "import sys\n",
    "!{sys.executable} -m pip install tldextract"
   ]
  },
  {
   "cell_type": "code",
   "execution_count": null,
   "metadata": {
    "collapsed": true
   },
   "outputs": [],
   "source": [
    "# run the helper function to connect to NW\n",
    "%run -i helper_functions.py\n",
    "\n",
    "#get ready for any plotting that is needed later\n",
    "%matplotlib inline\n",
    "plt.rcParams[\"figure.figsize\"] = [12,9]"
   ]
  },
  {
   "cell_type": "markdown",
   "metadata": {},
   "source": [
    "##Check the core db query quide\n",
    "https://community.rsa.com/docs/DOC-95938\n",
    "\n",
    "##Time  - Relative\n",
    "\n",
    "Examples:\n",
    "Last 90m of collection time:\n",
    "time = rtp(latest, 90m) - u\n",
    "\n",
    "First 2 days of event time:\n",
    "event.time = l - rtp(earliest, 48h)\n",
    "\n",
    "would match all time from that 2014-may-20 11:57:00 to the most recent time found in the collection\n",
    "time = \"2014-may-20 11:57:00\" - u \n",
    "\n"
   ]
  },
  {
   "cell_type": "markdown",
   "metadata": {},
   "source": [
    "query staging and exaples\n",
    "\n",
    "('http://10.100.248.9:8006', '/sdk', 'query', \n",
    "                        'id1=1 id2=6000000000 query=\"select ssl.ja3,ssl.subject, ssl.ca,alias.host where ssl.ja3 exists\" force-content-type=application/json\"', \n",
    "                        'admin', 'netwitness')\n",
    "                        \n",
    "                        "
   ]
  },
  {
   "cell_type": "code",
   "execution_count": null,
   "metadata": {
    "collapsed": true
   },
   "outputs": [],
   "source": [
    "#variables for the query below\n",
    "nw_host_target='http://<ip>:<port>'\n",
    "\n",
    "#nw_query='query=\"select directory, filename, checksum, alias.host, OS,category where device.type=\\'nwendpoint\\' && alias.host exists && checksum exists && directory exists && filename exists\"'\n",
    "#nw_query_time='rtp(latest,24h) - u'\n",
    "\n",
    "#credentials\n",
    "nw_username='admin'\n",
    "nw_password='<password>'"
   ]
  },
  {
   "cell_type": "code",
   "execution_count": null,
   "metadata": {
    "collapsed": true
   },
   "outputs": [],
   "source": [
    "df = query_to_df(submit(nw_host_target, '/sdk', 'query', \n",
    "                        'query=\"select directory, filename, checksum, alias.host, OS,category where device.type=\\'nwendpoint\\' && alias.host exists && checksum exists && directory exists && filename exists\" time=\"rtp(latest,24h) - u\" force-content-type=application/json\"', \n",
    "                        nw_username, nw_password))"
   ]
  },
  {
   "cell_type": "code",
   "execution_count": null,
   "metadata": {
    "scrolled": false
   },
   "outputs": [],
   "source": [
    "df.head()"
   ]
  },
  {
   "cell_type": "code",
   "execution_count": null,
   "metadata": {},
   "outputs": [],
   "source": [
    "#because the alias.host column will reply with a list which are not hashable we need to apply the tuple magic to change the column format to do unique\n",
    "#error is you dont do this\n",
    "#typeError: unhashable type: 'list'\n",
    "df['alias.host'] = df['alias.host'].apply(tuple)\n",
    "\n",
    "#now you can get unique values for the column\n",
    "df['alias.host'].unique()"
   ]
  },
  {
   "cell_type": "code",
   "execution_count": null,
   "metadata": {},
   "outputs": [],
   "source": [
    "#same thing for the filename key\n",
    "#error is you dont do this\n",
    "#typeError: unhashable type: 'list'\n",
    "df['filename'] = df['filename'].apply(tuple)\n",
    "\n",
    "df['filename'].unique()"
   ]
  },
  {
   "cell_type": "code",
   "execution_count": null,
   "metadata": {},
   "outputs": [],
   "source": [
    "df['alias.host'].describe(percentiles=[.95])\n"
   ]
  },
  {
   "cell_type": "code",
   "execution_count": null,
   "metadata": {},
   "outputs": [],
   "source": [
    "df[df['payload']>1074][['payload']].boxplot()"
   ]
  },
  {
   "cell_type": "code",
   "execution_count": null,
   "metadata": {
    "collapsed": true
   },
   "outputs": [],
   "source": []
  }
 ],
 "metadata": {
  "kernelspec": {
   "display_name": "Python 3",
   "language": "python",
   "name": "python3"
  },
  "language_info": {
   "codemirror_mode": {
    "name": "ipython",
    "version": 3
   },
   "file_extension": ".py",
   "mimetype": "text/x-python",
   "name": "python",
   "nbconvert_exporter": "python",
   "pygments_lexer": "ipython3",
   "version": "3.6.2"
  }
 },
 "nbformat": 4,
 "nbformat_minor": 2
}
