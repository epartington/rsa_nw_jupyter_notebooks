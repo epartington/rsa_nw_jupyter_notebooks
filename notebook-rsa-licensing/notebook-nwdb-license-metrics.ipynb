{
 "cells": [
  {
   "cell_type": "markdown",
   "metadata": {},
   "source": [
    "# NetWitness License Metrics\n",
    "\n",
    "Input the licensing metric sheet\n",
    "Output metrics about the license\n",
    "\n",
    "Highest usage days (top 10)\n",
    "Average weekday usage\n",
    "Average weekend usage\n",
    "Average usage last 7 days\n",
    "Average usage last 30 days\n",
    "Average usage last 60 days\n",
    "Average usage last 90 days\n",
    "Average 9am to 5pm usage\n",
    "\n",
    "https://data36.com/pandas-tutorial-1-basics-reading-data-files-dataframes-data-selection/\n",
    "\n",
    "http://blog.josephmisiti.com/group-by-datetimes-in-pandas\n",
    "\n",
    "https://medium.com/dunder-data/minimally-sufficient-pandas-a8e67f2a2428\n",
    "\n",
    "https://stackoverflow.com/questions/48257889/how-to-get-unique-values-in-all-columns-in-pandas-data-frame\n"
   ]
  },
  {
   "cell_type": "markdown",
   "metadata": {},
   "source": [
    "### This is your filename that you want to carve details for"
   ]
  },
  {
   "cell_type": "code",
   "execution_count": null,
   "metadata": {
    "collapsed": true
   },
   "outputs": [],
   "source": [
    "csv_input=\"license-usage-stats (1)\\license-stats-nw11endpoint - Log Decoder.CSV\""
   ]
  },
  {
   "cell_type": "markdown",
   "metadata": {},
   "source": [
    "### Enter the License information for the total linerate Licensed to generate on the chart"
   ]
  },
  {
   "cell_type": "code",
   "execution_count": null,
   "metadata": {
    "collapsed": true
   },
   "outputs": [],
   "source": [
    "nw_tp_license=4"
   ]
  },
  {
   "cell_type": "code",
   "execution_count": null,
   "metadata": {},
   "outputs": [],
   "source": [
    "import pandas\n",
    "import dateutil\n",
    "import matplotlib.pyplot as plt\n",
    "\n",
    "#allow plot inline charts\n",
    "%matplotlib inline\n",
    "\n",
    "dframe= pandas.read_csv(csv_input, encoding=\"UTF-8\")\n",
    "dframe[\"TIMESTAMP\"] = pandas.to_datetime(dframe[\"TIMESTAMP\"])\n",
    "#dframe['TIMESTAMP'] = dframe['TIMESTAMP'].apply(dateutil.parser.parse, dayfirst=True)\n",
    "print (dframe.index)\n",
    "\n",
    "#set the index of the time column so we can use fancier stuff on it later\n",
    "dframe.set_index(dframe[\"TIMESTAMP\"],inplace=True)\n",
    "\n",
    "#seconds in hour\n",
    "sec_in_hr=3600\n",
    "bits_in_bytes=8\n",
    "\n",
    "#the csv can be either related to log events per second or Mbps\n",
    "# to get from bytes to EPS you need to know roughly what bytes size exists\n"
   ]
  },
  {
   "cell_type": "code",
   "execution_count": null,
   "metadata": {
    "collapsed": true
   },
   "outputs": [],
   "source": [
    "#dframe"
   ]
  },
  {
   "cell_type": "code",
   "execution_count": null,
   "metadata": {
    "collapsed": true
   },
   "outputs": [],
   "source": [
    "#add blank column\n",
    "dframe['kb'] = ''\n",
    "dframe['mb'] = ''\n",
    "dframe['Mbps'] = ''\n",
    "\n",
    "\n",
    "#to kb\n",
    "dframe['kb'] = dframe.DATA_BYTES/1024\n",
    "dframe['mb'] = dframe.kb/1024\n",
    "dframe['Mbps'] = dframe['mb']/bits_in_bytes/sec_in_hr\n",
    "\n",
    "#dframe"
   ]
  },
  {
   "cell_type": "code",
   "execution_count": null,
   "metadata": {},
   "outputs": [],
   "source": [
    "# how many items in the list\n",
    "dframe['TIMESTAMP'].count()"
   ]
  },
  {
   "cell_type": "code",
   "execution_count": null,
   "metadata": {},
   "outputs": [],
   "source": [
    "# What was the highest byte count in an hour\n",
    "dframe['DATA_BYTES'].max()\n",
    "\n",
    "dframe['mb'].max()"
   ]
  },
  {
   "cell_type": "code",
   "execution_count": null,
   "metadata": {},
   "outputs": [],
   "source": [
    "#dframe[['DATA_BYTES']].head()\n",
    "dframe[['Mbps']].head()"
   ]
  },
  {
   "cell_type": "code",
   "execution_count": null,
   "metadata": {},
   "outputs": [],
   "source": [
    "dframe.head()"
   ]
  },
  {
   "cell_type": "code",
   "execution_count": null,
   "metadata": {},
   "outputs": [],
   "source": [
    "#dframe['DATA_BYTES'].resample('M').sum()\n",
    "#dframe['mb'].resample('M').sum()\n",
    "\n",
    "dframe['Mbps'].resample('M').mean()"
   ]
  },
  {
   "cell_type": "code",
   "execution_count": null,
   "metadata": {},
   "outputs": [],
   "source": [
    "month_plot = dframe['Mbps'].resample('M').mean().plot(kind='bar',title=\"Average Mb per Month\",legend=None,figsize=(9, 7))"
   ]
  },
  {
   "cell_type": "code",
   "execution_count": null,
   "metadata": {},
   "outputs": [],
   "source": [
    "#month_plot = dframe['DATA_BYTES'].resample('M').sum().plot(kind='bar',title=\"Bytes per day\",legend=None,figsize=(9, 7))\n",
    "month_plot = dframe['Mbps'].resample('M').sum().plot(kind='bar',title=\"Mb per Month\",legend=None,figsize=(9, 7))"
   ]
  },
  {
   "cell_type": "code",
   "execution_count": null,
   "metadata": {},
   "outputs": [],
   "source": [
    "dframe['Mbps'].resample('W').mean()"
   ]
  },
  {
   "cell_type": "code",
   "execution_count": null,
   "metadata": {},
   "outputs": [],
   "source": [
    "#dframe['DATA_BYTES'].resample('W').sum()\n",
    "dframe['Mbps'].resample('W').sum()"
   ]
  },
  {
   "cell_type": "code",
   "execution_count": null,
   "metadata": {},
   "outputs": [],
   "source": [
    "week_plot = dframe['Mbps'].resample('W').mean().plot(title=\"Average Mb per Week\",legend=None)"
   ]
  },
  {
   "cell_type": "code",
   "execution_count": null,
   "metadata": {},
   "outputs": [],
   "source": [
    "#week_plot = dframe['DATA_BYTES'].resample('W').sum().plot(title=\"Bytes per day\",legend=None)\n",
    "week_plot = dframe['Mbps'].resample('W').sum().plot(title=\"Mb per day\",legend=None)"
   ]
  },
  {
   "cell_type": "code",
   "execution_count": null,
   "metadata": {
    "scrolled": true
   },
   "outputs": [],
   "source": [
    "# Get the sum of the durations per month\n",
    "#dframe['DATA_BYTES'].resample('D').sum()\n",
    "dframe['Mbps'].resample('D').mean()"
   ]
  },
  {
   "cell_type": "code",
   "execution_count": null,
   "metadata": {
    "collapsed": true
   },
   "outputs": [],
   "source": [
    "#dframe['TIMESTAMP'] == '2019-01-11'"
   ]
  },
  {
   "cell_type": "code",
   "execution_count": null,
   "metadata": {},
   "outputs": [],
   "source": [
    "#day_plot = dframe['DATA_BYTES'].resample('D').sum().plot(title=\"Bytes per day\",legend=None)\n",
    "day_plot = dframe['Mbps'].resample('D').mean().plot(title=\"Average Bytes per hour by day\",legend=None)"
   ]
  },
  {
   "cell_type": "code",
   "execution_count": null,
   "metadata": {
    "collapsed": true
   },
   "outputs": [],
   "source": [
    "fig = day_plot.get_figure()\n",
    "fig.savefig(\"per-day-linerate.png\")\n",
    "\n",
    "fig2 = week_plot.get_figure()\n",
    "fig2.savefig(\"per-week-linerate.png\")\n",
    "\n",
    "fig3 = month_plot.get_figure()\n",
    "fig3.savefig(\"per-month-linerate.png\")"
   ]
  },
  {
   "cell_type": "code",
   "execution_count": null,
   "metadata": {
    "scrolled": true
   },
   "outputs": [],
   "source": [
    "dframe['2019-01-03']['Mbps']"
   ]
  },
  {
   "cell_type": "code",
   "execution_count": null,
   "metadata": {},
   "outputs": [],
   "source": [
    "hour_plot = dframe['2019-01-03']['Mbps'].plot(title=\"day view\",legend=None)"
   ]
  }
 ],
 "metadata": {
  "kernelspec": {
   "display_name": "Python 3",
   "language": "python",
   "name": "python3"
  },
  "language_info": {
   "codemirror_mode": {
    "name": "ipython",
    "version": 3
   },
   "file_extension": ".py",
   "mimetype": "text/x-python",
   "name": "python",
   "nbconvert_exporter": "python",
   "pygments_lexer": "ipython3",
   "version": "3.6.2"
  }
 },
 "nbformat": 4,
 "nbformat_minor": 2
}
