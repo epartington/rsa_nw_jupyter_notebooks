{
 "cells": [
  {
   "cell_type": "markdown",
   "metadata": {},
   "source": [
    "# RSA NetWitness Respond API Notebook"
   ]
  },
  {
   "cell_type": "code",
   "execution_count": null,
   "metadata": {
    "collapsed": true
   },
   "outputs": [],
   "source": [
    "#!/usr/bin/env python\n",
    "# -*- coding: utf-8 -*-\n",
    "\n",
    "# version 1.0\n",
    "# updated 2019/03/19\n",
    "\n",
    "#RSA LInk API Guide\n",
    "#https://community.rsa.com/docs/DOC-94420\n",
    "\n",
    "import requests\n",
    "from requests.auth import HTTPBasicAuth\n",
    "\n",
    "import json\n",
    "from datetime import datetime, timedelta\n",
    "# disable insecure warnings\n",
    "requests.packages.urllib3.disable_warnings()\n",
    "\n",
    "#to read in the json as dataframe\n",
    "import pandas as pd\n",
    "import matplotlib.pyplot as plt\n",
    "\n",
    "#allow plot inline charts\n",
    "%matplotlib inline\n",
    "\n",
    "path_auth = '/rest/api/auth/userpass'\n",
    "path_incidents = '/rest/api/incidents'\n",
    "path_alerts = '/alerts'\n",
    "\n",
    "#------------ update these ----------------\n",
    "# uri for the repond server and port (standard https port for Respond API)\n",
    "url = 'https://<IP>:<optional port>'\n",
    "\n",
    "#password and username to access the Respond API\n",
    "user = '<user>'\n",
    "password = '<password>'"
   ]
  },
  {
   "cell_type": "code",
   "execution_count": null,
   "metadata": {
    "collapsed": true
   },
   "outputs": [],
   "source": [
    "#$ curl 'https://api.netwitness.local/rest/api/auth/userpass' -i -X POST \\\n",
    "#  -H 'Accept: application/json;charset=UTF-8' \\\n",
    "#  -H 'Content-Type: application/x-www-form-urlencoded; charset=ISO-8859-1' \\\n",
    "#  -d 'username=ian&password=changeMe"
   ]
  },
  {
   "cell_type": "code",
   "execution_count": null,
   "metadata": {},
   "outputs": [],
   "source": [
    "# POST /rest/api/auth/userpass\n",
    "\n",
    "# you need an auth token to connect\n",
    "\n",
    "payload = {'username': user,'password': password}\n",
    "headers = {'NetWitness-Version': '1.0','content-type': 'x-www-form-urlencoded; charset=ISO-8859-1', 'Accept': 'application/json;charset=UTF-8'}\n",
    "\n",
    "s = requests.Session()\n",
    "\n",
    "#response = requests.post(url+path_auth, auth=HTTPBasicAuth('orchestrator', 'Password!1'), headers=headers, verify=False)\n",
    "response = s.post(url+path_auth, verify=False, params=payload, headers=headers)\n",
    "#print (response)\n",
    "\n",
    "#print(response.status_code) \n",
    "#print(response.text)\n",
    "#print(response.json())\n",
    "access_result = response.json().get('accessToken')\n",
    "refresh_result = response.json().get('refreshToken')\n",
    "print(access_result)"
   ]
  },
  {
   "cell_type": "code",
   "execution_count": null,
   "metadata": {},
   "outputs": [],
   "source": [
    "#GET /rest/api/incidents?since=2018-01-01T14:00:00.000Z\n",
    "\n",
    "#use that auth token to connect and query for the incidents created in the last x days\n",
    "\n",
    "#how many days back to get incidents\n",
    "num_of_days = 30\n",
    "if num_of_days:\n",
    "    since = datetime.now() - timedelta(days=int(num_of_days))\n",
    "    #convert to ISO 8601 format and add Z suffix\n",
    "    timestamp =  since.isoformat() + 'Z'\n",
    "    since = timestamp\n",
    "    until = None\n",
    "            \n",
    "headers = {'NetWitness-Version': '1.0', 'Accept': 'application/json;charset=UTF-8','NetWitness-Token':access_result }\n",
    "\n",
    "response = requests.get(url+path_incidents+'?since='+since, verify=False , headers=headers)        # To execute get request \n",
    "print(response.status_code)     # To print http response code  \n",
    "#print (response.text)\n",
    "\n"
   ]
  },
  {
   "cell_type": "code",
   "execution_count": null,
   "metadata": {},
   "outputs": [],
   "source": [
    "#get the response from the connection into json format\n",
    "\n",
    "item = response.json().get('items')\n",
    "#iterate over the list to print the items\n",
    "for incident in item:\n",
    "    #print(incident['id']+','+incident['title'] +','+incident['riskScore'])\n",
    "    print(incident)"
   ]
  },
  {
   "cell_type": "code",
   "execution_count": null,
   "metadata": {},
   "outputs": [],
   "source": [
    "#now make this as a datafrome for manipulation\n",
    "\n",
    "df = pd.DataFrame.from_dict(item, orient='columns')\n",
    "df.set_index('id', inplace=True)\n",
    "df"
   ]
  },
  {
   "cell_type": "code",
   "execution_count": null,
   "metadata": {},
   "outputs": [],
   "source": [
    "#count the values of incidents\n",
    "\n",
    "#df.groupby('createdBy').count()\n",
    "pd.value_counts(df['createdBy'].values, sort=True)"
   ]
  },
  {
   "cell_type": "code",
   "execution_count": null,
   "metadata": {},
   "outputs": [],
   "source": [
    "#chart the values above\n",
    "alertRiskScorePlot = pd.value_counts(df['averageAlertRiskScore'].values, sort=True).plot(kind='bar',title=\"Count averageAlertRiskScore of Incidents\",legend=None,figsize=(9, 7))"
   ]
  },
  {
   "cell_type": "code",
   "execution_count": null,
   "metadata": {},
   "outputs": [],
   "source": [
    "#unique items in the dataframe column selected\n",
    "df['createdBy'].unique()"
   ]
  },
  {
   "cell_type": "code",
   "execution_count": null,
   "metadata": {},
   "outputs": [],
   "source": [
    "#get the details for a specific Incident ID\n",
    "\n",
    "#GET /rest/api/incidents/{id}\n",
    "\n",
    "headers = {'NetWitness-Version': '1.0', 'Accept': 'application/json;charset=UTF-8','NetWitness-Token':access_result }\n",
    "\n",
    "response_a = requests.get(url+path_incidents+'/INC-30', verify=False , headers=headers)        # To execute get request \n",
    "print(response_a.status_code)     # To print http response code  \n",
    "print (response_a.text)"
   ]
  },
  {
   "cell_type": "code",
   "execution_count": null,
   "metadata": {
    "collapsed": true
   },
   "outputs": [],
   "source": []
  },
  {
   "cell_type": "code",
   "execution_count": null,
   "metadata": {},
   "outputs": [],
   "source": [
    "#Get the alerts for a specific Incident\n",
    "\n",
    "#GET /rest/api/incidents/{id}/alerts\n",
    "\n",
    "headers = {'NetWitness-Version': '1.0', 'Accept': 'application/json;charset=UTF-8','NetWitness-Token':access_result }\n",
    "\n",
    "response = requests.get(url+path_incidents+'/INC-30'+path_alerts, verify=False , headers=headers)        # To execute get request \n",
    "print(response.status_code)     # To print http response code  \n",
    "print (response.text)"
   ]
  },
  {
   "cell_type": "code",
   "execution_count": null,
   "metadata": {
    "collapsed": true
   },
   "outputs": [],
   "source": []
  }
 ],
 "metadata": {
  "kernelspec": {
   "display_name": "Python 3",
   "language": "python",
   "name": "python3"
  },
  "language_info": {
   "codemirror_mode": {
    "name": "ipython",
    "version": 3
   },
   "file_extension": ".py",
   "mimetype": "text/x-python",
   "name": "python",
   "nbconvert_exporter": "python",
   "pygments_lexer": "ipython3",
   "version": "3.6.2"
  }
 },
 "nbformat": 4,
 "nbformat_minor": 2
}
